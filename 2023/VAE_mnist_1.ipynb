{
 "cells": [
  {
   "cell_type": "code",
   "execution_count": 1,
   "metadata": {},
   "outputs": [],
   "source": [
    "from tensorflow import keras\n",
    "from tensorflow.keras import layers\n",
    "\n",
    "latent_dim = 2\n",
    "\n",
    "encoder_inputs = keras.Input(shape=(28, 28, 1))\n",
    "x = layers.Conv2D(32, 3, activation=\"relu\", strides=2, padding=\"same\")(encoder_inputs)\n",
    "x = layers.Conv2D(64, 3, activation=\"relu\", strides=2, padding=\"same\")(x)\n",
    "x = layers.Flatten()(x)\n",
    "x = layers.Dense(16, activation=\"relu\")(x)\n",
    "z_mean = layers.Dense(latent_dim, name=\"z_mean\")(x)\n",
    "z_log_var = layers.Dense(latent_dim, name=\"z_log_var\")(x)\n",
    "encoder = keras.Model(encoder_inputs, [z_mean, z_log_var], name=\"encoder\")"
   ]
  },
  {
   "cell_type": "code",
   "execution_count": 2,
   "metadata": {},
   "outputs": [
    {
     "name": "stdout",
     "output_type": "stream",
     "text": [
      "Model: \"encoder\"\n",
      "__________________________________________________________________________________________________\n",
      "Layer (type)                    Output Shape         Param #     Connected to                     \n",
      "==================================================================================================\n",
      "input_1 (InputLayer)            [(None, 28, 28, 1)]  0                                            \n",
      "__________________________________________________________________________________________________\n",
      "conv2d (Conv2D)                 (None, 14, 14, 32)   320         input_1[0][0]                    \n",
      "__________________________________________________________________________________________________\n",
      "conv2d_1 (Conv2D)               (None, 7, 7, 64)     18496       conv2d[0][0]                     \n",
      "__________________________________________________________________________________________________\n",
      "flatten (Flatten)               (None, 3136)         0           conv2d_1[0][0]                   \n",
      "__________________________________________________________________________________________________\n",
      "dense (Dense)                   (None, 16)           50192       flatten[0][0]                    \n",
      "__________________________________________________________________________________________________\n",
      "z_mean (Dense)                  (None, 2)            34          dense[0][0]                      \n",
      "__________________________________________________________________________________________________\n",
      "z_log_var (Dense)               (None, 2)            34          dense[0][0]                      \n",
      "==================================================================================================\n",
      "Total params: 69,076\n",
      "Trainable params: 69,076\n",
      "Non-trainable params: 0\n",
      "__________________________________________________________________________________________________\n"
     ]
    }
   ],
   "source": [
    "encoder.summary()"
   ]
  },
  {
   "cell_type": "code",
   "execution_count": 3,
   "metadata": {},
   "outputs": [],
   "source": [
    "import tensorflow as tf\n",
    "\n",
    "class Sampler(layers.Layer):\n",
    "    def call(self, z_mean, z_log_var):\n",
    "        batch_size = tf.shape(z_mean)[0]\n",
    "        z_size = tf.shape(z_mean)[1]\n",
    "        epsilon = tf.random.normal(shape=(batch_size, z_size))\n",
    "        return z_mean + tf.exp(0.5 * z_log_var) * epsilon"
   ]
  },
  {
   "cell_type": "code",
   "execution_count": 4,
   "metadata": {},
   "outputs": [],
   "source": [
    "latent_inputs = keras.Input(shape=(latent_dim,))\n",
    "x = layers.Dense(7 * 7 * 64, activation=\"relu\")(latent_inputs)\n",
    "x = layers.Reshape((7, 7, 64))(x)\n",
    "x = layers.Conv2DTranspose(64, 3, activation=\"relu\", strides=2, padding=\"same\")(x)\n",
    "x = layers.Conv2DTranspose(32, 3, activation=\"relu\", strides=2, padding=\"same\")(x)\n",
    "decoder_outputs = layers.Conv2D(1, 3, activation=\"sigmoid\", padding=\"same\")(x)\n",
    "decoder = keras.Model(latent_inputs, decoder_outputs, name=\"decoder\")"
   ]
  },
  {
   "cell_type": "code",
   "execution_count": 5,
   "metadata": {},
   "outputs": [
    {
     "name": "stdout",
     "output_type": "stream",
     "text": [
      "Model: \"decoder\"\n",
      "_________________________________________________________________\n",
      "Layer (type)                 Output Shape              Param #   \n",
      "=================================================================\n",
      "input_2 (InputLayer)         [(None, 2)]               0         \n",
      "_________________________________________________________________\n",
      "dense_1 (Dense)              (None, 3136)              9408      \n",
      "_________________________________________________________________\n",
      "reshape (Reshape)            (None, 7, 7, 64)          0         \n",
      "_________________________________________________________________\n",
      "conv2d_transpose (Conv2DTran (None, 14, 14, 64)        36928     \n",
      "_________________________________________________________________\n",
      "conv2d_transpose_1 (Conv2DTr (None, 28, 28, 32)        18464     \n",
      "_________________________________________________________________\n",
      "conv2d_2 (Conv2D)            (None, 28, 28, 1)         289       \n",
      "=================================================================\n",
      "Total params: 65,089\n",
      "Trainable params: 65,089\n",
      "Non-trainable params: 0\n",
      "_________________________________________________________________\n"
     ]
    }
   ],
   "source": [
    "decoder.summary()"
   ]
  },
  {
   "cell_type": "code",
   "execution_count": 6,
   "metadata": {},
   "outputs": [],
   "source": [
    "class VAE(keras.Model):\n",
    "    def __init__(self, encoder, decoder, **kwargs):\n",
    "        super().__init__(**kwargs)\n",
    "        self.encoder = encoder\n",
    "        self.decoder = decoder\n",
    "        self.sampler = Sampler()\n",
    "        self.total_loss_tracker = keras.metrics.Mean(name=\"total_loss\")\n",
    "        self.reconstruction_loss_tracker = keras.metrics.Mean(\n",
    "            name=\"reconstruction_loss\")\n",
    "        self.kl_loss_tracker = keras.metrics.Mean(name=\"kl_loss\")\n",
    "\n",
    "    @property\n",
    "    def metrics(self):\n",
    "        return [self.total_loss_tracker,\n",
    "                self.reconstruction_loss_tracker,\n",
    "                self.kl_loss_tracker]\n",
    "\n",
    "    def train_step(self, data):\n",
    "        with tf.GradientTape() as tape:\n",
    "            z_mean, z_log_var = self.encoder(data)\n",
    "            z = self.sampler(z_mean, z_log_var)\n",
    "            reconstruction = decoder(z)\n",
    "            reconstruction_loss = tf.reduce_mean(\n",
    "                tf.reduce_sum(\n",
    "                    keras.losses.binary_crossentropy(data, reconstruction),\n",
    "                    axis=(1, 2)\n",
    "                )\n",
    "            )\n",
    "            kl_loss = -0.5 * (1 + z_log_var - tf.square(z_mean) - tf.exp(z_log_var))\n",
    "            total_loss = reconstruction_loss + tf.reduce_mean(kl_loss)\n",
    "        grads = tape.gradient(total_loss, self.trainable_weights)\n",
    "        self.optimizer.apply_gradients(zip(grads, self.trainable_weights))\n",
    "        self.total_loss_tracker.update_state(total_loss)\n",
    "        self.reconstruction_loss_tracker.update_state(reconstruction_loss)\n",
    "        self.kl_loss_tracker.update_state(kl_loss)\n",
    "        return {\n",
    "            \"total_loss\": self.total_loss_tracker.result(),\n",
    "            \"reconstruction_loss\": self.reconstruction_loss_tracker.result(),\n",
    "            \"kl_loss\": self.kl_loss_tracker.result(),\n",
    "        }"
   ]
  },
  {
   "cell_type": "code",
   "execution_count": 7,
   "metadata": {},
   "outputs": [
    {
     "name": "stdout",
     "output_type": "stream",
     "text": [
      "Epoch 1/30\n",
      "547/547 [==============================] - 541s 989ms/step - total_loss: 208.7866 - reconstruction_loss: 206.7461 - kl_loss: 2.0405\n",
      "Epoch 2/30\n",
      "547/547 [==============================] - 587s 1s/step - total_loss: 187.2755 - reconstruction_loss: 185.0852 - kl_loss: 2.1902\n",
      "Epoch 3/30\n",
      "547/547 [==============================] - 515s 942ms/step - total_loss: 171.3228 - reconstruction_loss: 167.9070 - kl_loss: 3.4158\n",
      "Epoch 4/30\n",
      "547/547 [==============================] - 479s 876ms/step - total_loss: 162.7204 - reconstruction_loss: 158.9091 - kl_loss: 3.8113\n",
      "Epoch 5/30\n",
      "547/547 [==============================] - 371s 678ms/step - total_loss: 159.4059 - reconstruction_loss: 155.5146 - kl_loss: 3.8912\n",
      "Epoch 6/30\n",
      "547/547 [==============================] - 321s 588ms/step - total_loss: 157.3636 - reconstruction_loss: 153.4607 - kl_loss: 3.9029\n",
      "Epoch 7/30\n",
      "547/547 [==============================] - 285s 520ms/step - total_loss: 155.8589 - reconstruction_loss: 151.9408 - kl_loss: 3.9183\n",
      "Epoch 8/30\n",
      "547/547 [==============================] - 271s 495ms/step - total_loss: 154.7229 - reconstruction_loss: 150.8247 - kl_loss: 3.8981\n",
      "Epoch 9/30\n",
      "547/547 [==============================] - 310s 566ms/step - total_loss: 153.7830 - reconstruction_loss: 149.9118 - kl_loss: 3.8712\n",
      "Epoch 10/30\n",
      "547/547 [==============================] - 319s 583ms/step - total_loss: 153.1483 - reconstruction_loss: 149.2886 - kl_loss: 3.8597\n",
      "Epoch 11/30\n",
      "547/547 [==============================] - 278s 507ms/step - total_loss: 152.3205 - reconstruction_loss: 148.4669 - kl_loss: 3.8536\n",
      "Epoch 12/30\n",
      "547/547 [==============================] - 243s 443ms/step - total_loss: 151.8217 - reconstruction_loss: 147.9864 - kl_loss: 3.8353\n",
      "Epoch 13/30\n",
      "547/547 [==============================] - 241s 442ms/step - total_loss: 151.3556 - reconstruction_loss: 147.5264 - kl_loss: 3.8292\n",
      "Epoch 14/30\n",
      "547/547 [==============================] - 306s 560ms/step - total_loss: 150.9040 - reconstruction_loss: 147.0859 - kl_loss: 3.8180\n",
      "Epoch 15/30\n",
      "547/547 [==============================] - 325s 595ms/step - total_loss: 150.4350 - reconstruction_loss: 146.6177 - kl_loss: 3.8173\n",
      "Epoch 16/30\n",
      "547/547 [==============================] - 409s 747ms/step - total_loss: 150.0822 - reconstruction_loss: 146.2745 - kl_loss: 3.8077\n",
      "Epoch 17/30\n",
      "547/547 [==============================] - 374s 684ms/step - total_loss: 149.8934 - reconstruction_loss: 146.0945 - kl_loss: 3.7989\n",
      "Epoch 18/30\n",
      "547/547 [==============================] - 316s 578ms/step - total_loss: 149.5065 - reconstruction_loss: 145.7040 - kl_loss: 3.8025\n",
      "Epoch 19/30\n",
      "547/547 [==============================] - 254s 465ms/step - total_loss: 149.3137 - reconstruction_loss: 145.5351 - kl_loss: 3.7786\n",
      "Epoch 20/30\n",
      "547/547 [==============================] - 246s 450ms/step - total_loss: 149.0014 - reconstruction_loss: 145.1996 - kl_loss: 3.8017\n",
      "Epoch 21/30\n",
      "547/547 [==============================] - 249s 456ms/step - total_loss: 148.8380 - reconstruction_loss: 145.0545 - kl_loss: 3.7836\n",
      "Epoch 22/30\n",
      "547/547 [==============================] - 283s 517ms/step - total_loss: 148.5818 - reconstruction_loss: 144.7985 - kl_loss: 3.7834\n",
      "Epoch 23/30\n",
      "547/547 [==============================] - 467s 853ms/step - total_loss: 148.3373 - reconstruction_loss: 144.5498 - kl_loss: 3.7875\n",
      "Epoch 24/30\n",
      "547/547 [==============================] - 296s 541ms/step - total_loss: 148.2291 - reconstruction_loss: 144.4429 - kl_loss: 3.7864\n",
      "Epoch 25/30\n",
      "547/547 [==============================] - 322s 589ms/step - total_loss: 148.0883 - reconstruction_loss: 144.3008 - kl_loss: 3.7876\n",
      "Epoch 26/30\n",
      "547/547 [==============================] - 272s 498ms/step - total_loss: 147.8940 - reconstruction_loss: 144.1123 - kl_loss: 3.7817\n",
      "Epoch 27/30\n",
      "547/547 [==============================] - 254s 465ms/step - total_loss: 147.7369 - reconstruction_loss: 143.9633 - kl_loss: 3.7737\n",
      "Epoch 28/30\n",
      "547/547 [==============================] - 250s 457ms/step - total_loss: 147.6706 - reconstruction_loss: 143.9000 - kl_loss: 3.7706\n",
      "Epoch 29/30\n",
      "547/547 [==============================] - 248s 453ms/step - total_loss: 147.4918 - reconstruction_loss: 143.7192 - kl_loss: 3.7727\n",
      "Epoch 30/30\n",
      "547/547 [==============================] - 252s 461ms/step - total_loss: 147.2311 - reconstruction_loss: 143.4620 - kl_loss: 3.7692\n"
     ]
    },
    {
     "data": {
      "text/plain": [
       "<tensorflow.python.keras.callbacks.History at 0x1af800616a0>"
      ]
     },
     "execution_count": 7,
     "metadata": {},
     "output_type": "execute_result"
    }
   ],
   "source": [
    "import numpy as np\n",
    "\n",
    "(x_train, _), (x_test, _) = keras.datasets.mnist.load_data()\n",
    "mnist_digits = np.concatenate([x_train, x_test], axis=0)\n",
    "mnist_digits = np.expand_dims(mnist_digits, -1).astype(\"float32\") / 255\n",
    "\n",
    "vae = VAE(encoder, decoder)\n",
    "vae.compile(optimizer=keras.optimizers.Adam(), run_eagerly=True)\n",
    "vae.fit(mnist_digits, epochs=30, batch_size=128)"
   ]
  }
 ],
 "metadata": {
  "kernelspec": {
   "display_name": "Python 3",
   "language": "python",
   "name": "python3"
  },
  "language_info": {
   "codemirror_mode": {
    "name": "ipython",
    "version": 3
   },
   "file_extension": ".py",
   "mimetype": "text/x-python",
   "name": "python",
   "nbconvert_exporter": "python",
   "pygments_lexer": "ipython3",
   "version": "3.8.5"
  }
 },
 "nbformat": 4,
 "nbformat_minor": 4
}
