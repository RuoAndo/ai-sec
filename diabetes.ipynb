{
 "cells": [
  {
   "cell_type": "code",
   "execution_count": 5,
   "metadata": {},
   "outputs": [
    {
     "name": "stdout",
     "output_type": "stream",
     "text": [
      "          age    gender  boby mass index  average blood pressure        tc  \\\n",
      "0    0.038076  0.050680         0.061696                0.021872 -0.044223   \n",
      "1   -0.001882 -0.044642        -0.051474               -0.026328 -0.008449   \n",
      "2    0.085299  0.050680         0.044451               -0.005671 -0.045599   \n",
      "3   -0.089063 -0.044642        -0.011595               -0.036656  0.012191   \n",
      "4    0.005383 -0.044642        -0.036385                0.021872  0.003935   \n",
      "..        ...       ...              ...                     ...       ...   \n",
      "437  0.041708  0.050680         0.019662                0.059744 -0.005697   \n",
      "438 -0.005515  0.050680        -0.015906               -0.067642  0.049341   \n",
      "439  0.041708  0.050680        -0.015906                0.017282 -0.037344   \n",
      "440 -0.045472 -0.044642         0.039062                0.001215  0.016318   \n",
      "441 -0.045472 -0.044642        -0.073030               -0.081414  0.083740   \n",
      "\n",
      "          ldl       hdl       tch       ltg       glu  \n",
      "0   -0.034821 -0.043401 -0.002592  0.019908 -0.017646  \n",
      "1   -0.019163  0.074412 -0.039493 -0.068330 -0.092204  \n",
      "2   -0.034194 -0.032356 -0.002592  0.002864 -0.025930  \n",
      "3    0.024991 -0.036038  0.034309  0.022692 -0.009362  \n",
      "4    0.015596  0.008142 -0.002592 -0.031991 -0.046641  \n",
      "..        ...       ...       ...       ...       ...  \n",
      "437 -0.002566 -0.028674 -0.002592  0.031193  0.007207  \n",
      "438  0.079165 -0.028674  0.034309 -0.018118  0.044485  \n",
      "439 -0.013840 -0.024993 -0.011080 -0.046879  0.015491  \n",
      "440  0.015283 -0.028674  0.026560  0.044528 -0.025930  \n",
      "441  0.027809  0.173816 -0.039493 -0.004220  0.003064  \n",
      "\n",
      "[442 rows x 10 columns]\n"
     ]
    }
   ],
   "source": [
    "import numpy as np\n",
    "import pandas as pd\n",
    "\n",
    "from sklearn.datasets import load_diabetes\n",
    "import matplotlib.pyplot as plt\n",
    "import numpy as np\n",
    "from sklearn import datasets, ensemble\n",
    "from sklearn.inspection import permutation_importance\n",
    "from sklearn.metrics import mean_squared_error\n",
    "from sklearn.model_selection import train_test_split\n",
    "\n",
    "#X_feature_names = ['age', 'gender', 'body mass index', 'average blood pressure','bl_0','bl_1','bl_2','bl_3','bl_4','bl_5']\n",
    "\n",
    "diabetes = datasets.load_diabetes()\n",
    "X, y = diabetes.data, diabetes.target\n",
    "\n",
    "df = pd.DataFrame(diabetes.data, columns=(\"age\", \"gender\", \"boby mass index\", \"average blood pressure\", \"tc\", \"ldl\", \"hdl\", \"tch\", \"ltg\", \"glu\"))\n",
    "print(df)\n",
    "\n",
    "#df['target'] = diabetes.target\n",
    "#df.head()\n"
   ]
  },
  {
   "cell_type": "markdown",
   "metadata": {},
   "source": [
    "0 Number of times pregnant: 妊娠回数\n",
    "1 Plasma glucose concentration a 2 hours in an oral glucose tolerance test: 血糖濃度(経口ブドウ糖負荷試験後2時間の値)\n",
    "2 Diastolic blood pressure (mm Hg): 最低血圧(mm/Hg)\n",
    "3 Triceps skin fold thickness (mm): 上腕三頭筋皮下脂肪の厚さ(mm)\n",
    "4 2-Hour serum insulin (mu U/ml): 血清インスリン濃度(経口ブドウ糖負荷試験後2時間の値)\n",
    "5 Body mass index (weight in kg/(height in m)2): BMI\n",
    "6 Diabetes pedigree function: 糖尿病血統要因\n",
    "7 Age (years): 年齢\n",
    "8 Class variable (0 or 1): 糖尿病が陽性ならば1(目的変数)"
   ]
  }
 ],
 "metadata": {
  "kernelspec": {
   "display_name": "Python 3",
   "language": "python",
   "name": "python3"
  },
  "language_info": {
   "codemirror_mode": {
    "name": "ipython",
    "version": 3
   },
   "file_extension": ".py",
   "mimetype": "text/x-python",
   "name": "python",
   "nbconvert_exporter": "python",
   "pygments_lexer": "ipython3",
   "version": "3.8.5"
  }
 },
 "nbformat": 4,
 "nbformat_minor": 4
}
